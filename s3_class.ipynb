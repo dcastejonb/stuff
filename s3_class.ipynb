{
  "nbformat": 4,
  "nbformat_minor": 0,
  "metadata": {
    "colab": {
      "provenance": [],
      "include_colab_link": true
    },
    "kernelspec": {
      "name": "python3",
      "display_name": "Python 3"
    },
    "language_info": {
      "name": "python"
    }
  },
  "cells": [
    {
      "cell_type": "markdown",
      "metadata": {
        "id": "view-in-github",
        "colab_type": "text"
      },
      "source": [
        "<a href=\"https://colab.research.google.com/github/dcastejonb/stuff/blob/main/s3_class.ipynb\" target=\"_parent\"><img src=\"https://colab.research.google.com/assets/colab-badge.svg\" alt=\"Open In Colab\"/></a>"
      ]
    },
    {
      "cell_type": "code",
      "source": [
        "# put this on env files\n",
        "\n",
        "access_key = \"...",
        "secret_key = \"...\n",
        "region_name = '...'\n",
        "\n"
      ],
      "metadata": {
        "id": "fRXMGszkd8FH"
      },
      "execution_count": null,
      "outputs": []
    },
    {
      "cell_type": "code",
      "source": [
        "# Requirements\n",
        "import pkg_resources\n",
        "import subprocess\n",
        "\n",
        "# Check for packages necessary to initialize Script\n",
        "def is_package_installed(package_name):\n",
        "    try:\n",
        "        pkg_resources.get_distribution(package_name)\n",
        "        return True\n",
        "    except pkg_resources.DistributionNotFound:\n",
        "        return False\n",
        "\n",
        "def install_package(package_name):\n",
        "    if not is_package_installed(package_name):\n",
        "        subprocess.run([\"pip\", \"install\", package_name])\n",
        "    else:\n",
        "        print(f\"The '{package_name}' package is already installed.\")\n",
        "\n",
        "install_package('boto3')"
      ],
      "metadata": {
        "id": "z6jH6oOldjyb",
        "colab": {
          "base_uri": "https://localhost:8080/"
        },
        "outputId": "de3271c4-9431-4cd3-e813-de2a4f9becd9"
      },
      "execution_count": null,
      "outputs": [
        {
          "output_type": "stream",
          "name": "stdout",
          "text": [
            "The 'boto3' package is already installed.\n"
          ]
        }
      ]
    },
    {
      "cell_type": "code",
      "execution_count": null,
      "metadata": {
        "id": "RzgqO6EDdaGA"
      },
      "outputs": [],
      "source": [
        "import boto3\n",
        "import os\n",
        "from io import StringIO\n",
        "\n",
        "class S3FileManager:\n",
        "    def __init__(self, bucket_name, aws_access_key_id, aws_secret_access_key, region_name):\n",
        "        self.bucket_name = bucket_name\n",
        "        self.s3 = boto3.client('s3',\n",
        "                               aws_access_key_id=aws_access_key_id,\n",
        "                               aws_secret_access_key=aws_secret_access_key,\n",
        "                               region_name=region_name)\n",
        "\n",
        "    def upload_file(self, file_path, s3_key):\n",
        "        \"\"\"\n",
        "        Uploads a file to the S3 bucket.\n",
        "\n",
        "        Args:\n",
        "            file_path (str): Local path of the file to upload.\n",
        "            s3_key (str): Key or path of the file in the S3 bucket.\n",
        "        \"\"\"\n",
        "        try:\n",
        "            self.s3.upload_file(file_path, self.bucket_name, s3_key)\n",
        "            print(f\"File '{file_path}' uploaded as '{s3_key}' to bucket '{self.bucket_name}'.\")\n",
        "        except Exception as e:\n",
        "            print(f\"An error occurred while uploading file '{file_path}': {str(e)}\")\n",
        "\n",
        "    def download_file(self, s3_key, file_path):\n",
        "        \"\"\"\n",
        "        Downloads a file from the S3 bucket.\n",
        "\n",
        "        Args:\n",
        "            s3_key (str): Key or path of the file in the S3 bucket.\n",
        "            file_path (str): Local path to save the downloaded file.\n",
        "        \"\"\"\n",
        "        try:\n",
        "            self.s3.download_file(self.bucket_name, s3_key, file_path)\n",
        "            print(f\"File '{s3_key}' downloaded from bucket '{self.bucket_name}' and saved as '{file_path}'.\")\n",
        "        except Exception as e:\n",
        "            print(f\"An error occurred while downloading file '{s3_key}': {str(e)}\")\n",
        "\n",
        "    def upload_dataframe_as_csv(self, df, s3_key):\n",
        "        \"\"\"\n",
        "        Uploads a pandas DataFrame as a CSV file to the S3 bucket.\n",
        "\n",
        "        Args:\n",
        "            df (pandas.DataFrame): DataFrame to upload.\n",
        "            s3_key (str): Key or path of the file in the S3 bucket.\n",
        "        \"\"\"\n",
        "        try:\n",
        "            csv_data = df.to_csv(index=False)\n",
        "            temp_file_path = 'temp_file.csv'\n",
        "            with open(temp_file_path, 'w') as temp_file:\n",
        "                temp_file.write(csv_data)\n",
        "            self.upload_file(temp_file_path, s3_key)\n",
        "            os.remove(temp_file_path)\n",
        "\n",
        "        except Exception as e:\n",
        "            print(f\"An error occurred while uploading DataFrame as CSV file '{s3_key}': {str(e)}\")\n"
      ]
    },
    {
      "cell_type": "code",
      "source": [
        "# Load AWS credentials from .env file\n",
        "\n",
        "# access_key = os.getenv('AWS_ACCESS_KEY_ID')\n",
        "# secret_key = os.getenv('AWS_SECRET_ACCESS_KEY')\n",
        "# ...\n",
        "\n",
        "# Create an instance of the S3FileManager class\n",
        "bucket_name = 'sgbcatchall'\n",
        "file_manager = S3FileManager(bucket_name , access_key, secret_key, region_name)\n",
        "\n",
        "# Create a sample pandas DataFrame\n",
        "import pandas as pd\n",
        "data = {'Column1': [1, 2, 3], 'Column2': ['A', 'B', 'C']}\n",
        "df = pd.DataFrame(data)\n",
        "\n",
        "# Convert DataFrame to CSV string\n",
        "csv_data = df.to_csv(index=False)\n",
        "\n",
        "# Set the S3 key for the file\n",
        "s3_key = 'check/trial.csv'\n",
        "\n",
        "# Upload the CSV file to S3\n",
        "file_manager.upload_dataframe_as_csv(df, s3_key)\n",
        "\n",
        "\n"
      ],
      "metadata": {
        "colab": {
          "base_uri": "https://localhost:8080/"
        },
        "id": "PNFdPZW8hB_g",
        "outputId": "eae87c92-8f11-4af1-81a5-6760b40f6104"
      },
      "execution_count": null,
      "outputs": [
        {
          "output_type": "stream",
          "name": "stdout",
          "text": [
            "File 'temp_file.csv' uploaded as 'check/trial.csv' to bucket 'sgbcatchall'.\n"
          ]
        }
      ]
    },
    {
      "cell_type": "code",
      "source": [
        "data = file_manager.download_file(df, s3_key)\n",
        "print(data)"
      ],
      "metadata": {
        "colab": {
          "base_uri": "https://localhost:8080/"
        },
        "id": "spQ63jpgiPmG",
        "outputId": "d5072abd-fd7b-4895-b04c-2ab9154da337"
      },
      "execution_count": null,
      "outputs": [
        {
          "output_type": "stream",
          "name": "stdout",
          "text": [
            "An error occurred while downloading file '   Column1 Column2\n",
            "0        1       A\n",
            "1        2       B\n",
            "2        3       C': Parameter validation failed:\n",
            "Invalid type for parameter Key, value:    Column1 Column2\n",
            "0        1       A\n",
            "1        2       B\n",
            "2        3       C, type: <class 'pandas.core.frame.DataFrame'>, valid types: <class 'str'>\n",
            "None\n"
          ]
        }
      ]
    },
    {
      "cell_type": "code",
      "source": [
        "# un cop el .env file estigui creat, feu servir això per fer inicialitzar la sessió\n",
        "\n",
        "# access_key = os.getenv('AWS_ACCESS_KEY_ID')\n",
        "# secret_key = os.getenv('AWS_SECRET_ACCESS_KEY')\n",
        "# region_name = os.getenv('REGION_NAME')\n",
        "\n"
      ],
      "metadata": {
        "id": "ft6dwEDIgMKM"
      },
      "execution_count": null,
      "outputs": []
    }
  ]
}
